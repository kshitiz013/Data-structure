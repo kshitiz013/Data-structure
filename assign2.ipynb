{
 "cells": [
  {
   "cell_type": "code",
   "execution_count": 59,
   "id": "20f5e576-6b66-4353-984f-5b773542fd01",
   "metadata": {},
   "outputs": [],
   "source": [
    "# Q.1 Discuss string slicing and provide examples?\n",
    "\n",
    "# String slicing is process to take out some useful part of the string or the substring from its original string, which can be useful in some ooperation .As we know string are immutable , so we cannot change or update it but can access it through indexing and slicing"
   ]
  },
  {
   "cell_type": "code",
   "execution_count": 60,
   "id": "4e17e094-a3fd-439a-85bd-1d12b0687b56",
   "metadata": {},
   "outputs": [
    {
     "data": {
      "text/plain": [
       "'L'"
      ]
     },
     "execution_count": 60,
     "metadata": {},
     "output_type": "execute_result"
    }
   ],
   "source": [
    "a=\"Lok Sabha\"\n",
    "a[0]\n",
    "\n",
    "#this will give us first element of the string\n",
    "\n",
    "\n",
    "# now we will slice and print whatever part we want .The first element is at 0 oindex and then so on the index increses by 1 from left to right\n",
    "#There is also the concept of negative index which start from right to left,first index is at -1` position ."
   ]
  },
  {
   "cell_type": "code",
   "execution_count": 61,
   "id": "394afa39-e540-4315-81a0-fab1efee2d45",
   "metadata": {},
   "outputs": [
    {
     "data": {
      "text/plain": [
       "'\\na[start:stop:step]\\nthis is called slicing we start from 0 element and goes till third index element because stop index is not included in slicing\\n'"
      ]
     },
     "execution_count": 61,
     "metadata": {},
     "output_type": "execute_result"
    }
   ],
   "source": [
    "a[0:4]\n",
    "\n",
    "\n",
    "\n",
    "\"\"\"\n",
    "a[start:stop:step]\n",
    "this is called slicing we start from 0 element and goes till third index element because stop index is not included in slicing\n",
    "\"\"\""
   ]
  },
  {
   "cell_type": "code",
   "execution_count": 62,
   "id": "364a4452-3039-4057-81f1-bda379228daf",
   "metadata": {},
   "outputs": [],
   "source": [
    "# Q.2Explain the key features of lists in Python?"
   ]
  },
  {
   "cell_type": "code",
   "execution_count": 63,
   "id": "cb9f0d9f-a755-424d-a54f-5e2db85d76af",
   "metadata": {},
   "outputs": [
    {
     "data": {
      "text/plain": [
       "list"
      ]
     },
     "execution_count": 63,
     "metadata": {},
     "output_type": "execute_result"
    }
   ],
   "source": [
    "a=[1,2,3,4,5]\n",
    "type(a)"
   ]
  },
  {
   "cell_type": "code",
   "execution_count": 64,
   "id": "768f8d89-6f66-4bd8-ba53-45770a3677f4",
   "metadata": {},
   "outputs": [],
   "source": [
    "# So a is list ,list are immutable and the they ordered data structure ,the index of there first element is 0 as it goes on.We can access element ,remove element ,display element from a list.\n"
   ]
  },
  {
   "cell_type": "code",
   "execution_count": 65,
   "id": "b36e154d-546c-4c86-9571-ae9264af3acb",
   "metadata": {},
   "outputs": [
    {
     "data": {
      "text/plain": [
       "[1, 2, 3, 4, 5, 10]"
      ]
     },
     "execution_count": 65,
     "metadata": {},
     "output_type": "execute_result"
    }
   ],
   "source": [
    "#adding element into list\n",
    "\n",
    "a.append(10)\n",
    "a"
   ]
  },
  {
   "cell_type": "code",
   "execution_count": 66,
   "id": "f83ae338-1777-496f-a450-afe301c6b2ba",
   "metadata": {},
   "outputs": [
    {
     "data": {
      "text/plain": [
       "10"
      ]
     },
     "execution_count": 66,
     "metadata": {},
     "output_type": "execute_result"
    }
   ],
   "source": [
    "#removing element from list\n",
    "\n",
    "a.pop()"
   ]
  },
  {
   "cell_type": "code",
   "execution_count": 67,
   "id": "02298648-49ed-44f9-b441-6f93cbab866c",
   "metadata": {},
   "outputs": [
    {
     "data": {
      "text/plain": [
       "[1, 2, 3, 4, 5]"
      ]
     },
     "execution_count": 67,
     "metadata": {},
     "output_type": "execute_result"
    }
   ],
   "source": [
    "a"
   ]
  },
  {
   "cell_type": "code",
   "execution_count": 68,
   "id": "f8d6ee2c-3f53-4d1b-a480-d503fac56364",
   "metadata": {},
   "outputs": [
    {
     "data": {
      "text/plain": [
       "(1, [1, 2, 3])"
      ]
     },
     "execution_count": 68,
     "metadata": {},
     "output_type": "execute_result"
    }
   ],
   "source": [
    "#accessing element from list\n",
    "a[0] ,a[0:3]"
   ]
  },
  {
   "cell_type": "code",
   "execution_count": 69,
   "id": "ad9dfbec-1363-486d-8440-4706ef672390",
   "metadata": {},
   "outputs": [],
   "source": [
    "# Q.3Describe how to access, modify, and delete elements in a list with examples?\n",
    "\n",
    "# done above"
   ]
  },
  {
   "cell_type": "code",
   "execution_count": null,
   "id": "8ed3b690-5aa7-4816-917e-e0f0436f3b7d",
   "metadata": {},
   "outputs": [],
   "source": []
  },
  {
   "cell_type": "code",
   "execution_count": 70,
   "id": "a5824e62-8747-4ab9-b9da-bf7f72778beb",
   "metadata": {},
   "outputs": [],
   "source": [
    "# Q.4Compare and contrast tuples and lists with examples?"
   ]
  },
  {
   "cell_type": "code",
   "execution_count": 71,
   "id": "9fa07422-0489-4b23-b487-94d2002f530d",
   "metadata": {},
   "outputs": [],
   "source": [
    "lists=[1,2,3,4,5]\n",
    "tuples=(1,2,3,4,5)\n"
   ]
  },
  {
   "cell_type": "code",
   "execution_count": 72,
   "id": "146b02e8-7100-41c8-81f5-323b7fc1111b",
   "metadata": {},
   "outputs": [
    {
     "data": {
      "text/plain": [
       "1"
      ]
     },
     "execution_count": 72,
     "metadata": {},
     "output_type": "execute_result"
    }
   ],
   "source": [
    "#accessing elemnt from both data type\n",
    "\n",
    "lists[0]"
   ]
  },
  {
   "cell_type": "code",
   "execution_count": 73,
   "id": "69a22ec2-7f94-471d-ba5b-987f86b748cd",
   "metadata": {},
   "outputs": [
    {
     "data": {
      "text/plain": [
       "[1, 2, 3]"
      ]
     },
     "execution_count": 73,
     "metadata": {},
     "output_type": "execute_result"
    }
   ],
   "source": [
    "lists[0:3]"
   ]
  },
  {
   "cell_type": "code",
   "execution_count": 74,
   "id": "5f7a62bd-6ee9-4f7e-be41-0a0a3171b0a9",
   "metadata": {},
   "outputs": [
    {
     "data": {
      "text/plain": [
       "1"
      ]
     },
     "execution_count": 74,
     "metadata": {},
     "output_type": "execute_result"
    }
   ],
   "source": [
    "tuples[0]\n"
   ]
  },
  {
   "cell_type": "code",
   "execution_count": 75,
   "id": "57b875c8-4a97-4951-b6d5-7846836a351e",
   "metadata": {},
   "outputs": [
    {
     "data": {
      "text/plain": [
       "(1, 2, 3, 4)"
      ]
     },
     "execution_count": 75,
     "metadata": {},
     "output_type": "execute_result"
    }
   ],
   "source": [
    "tuples[0:4]\n"
   ]
  },
  {
   "cell_type": "code",
   "execution_count": 76,
   "id": "bc4f894d-0361-4161-af11-60cf1a0d7146",
   "metadata": {},
   "outputs": [],
   "source": [
    "# Hence we can access the element from both the data type and dispaly it on the screen "
   ]
  },
  {
   "cell_type": "code",
   "execution_count": 77,
   "id": "6e048308-107a-47a8-b252-7e607f5f2fad",
   "metadata": {},
   "outputs": [],
   "source": [
    "#adding and removing element from both data type "
   ]
  },
  {
   "cell_type": "code",
   "execution_count": 78,
   "id": "87276df6-5076-4397-8fa8-84a2faeac670",
   "metadata": {},
   "outputs": [],
   "source": [
    "lists.append(10)"
   ]
  },
  {
   "cell_type": "code",
   "execution_count": 79,
   "id": "0e0c39f8-247d-4510-9179-5a151aafbc43",
   "metadata": {},
   "outputs": [
    {
     "data": {
      "text/plain": [
       "[1, 2, 3, 4, 5, 10]"
      ]
     },
     "execution_count": 79,
     "metadata": {},
     "output_type": "execute_result"
    }
   ],
   "source": [
    "lists"
   ]
  },
  {
   "cell_type": "code",
   "execution_count": 80,
   "id": "679a384b-c421-4396-8379-0f6d1bc23b15",
   "metadata": {},
   "outputs": [],
   "source": [
    "lists.remove(10)"
   ]
  },
  {
   "cell_type": "code",
   "execution_count": 81,
   "id": "485aa04a-c92e-4d8a-b2a2-ff42a3df2d09",
   "metadata": {},
   "outputs": [
    {
     "data": {
      "text/plain": [
       "[1, 2, 3, 4, 5]"
      ]
     },
     "execution_count": 81,
     "metadata": {},
     "output_type": "execute_result"
    }
   ],
   "source": [
    "lists"
   ]
  },
  {
   "cell_type": "code",
   "execution_count": 82,
   "id": "69e333a1-f84b-4dd9-a4bf-b2635c4431e6",
   "metadata": {},
   "outputs": [],
   "source": [
    "# Tuple are immutable data type so we cannot add or remove element from it and there is nno function do that"
   ]
  },
  {
   "cell_type": "code",
   "execution_count": 83,
   "id": "1f0b8573-362a-4653-a57f-304354a17584",
   "metadata": {},
   "outputs": [],
   "source": [
    "#now updating element from both data type\n",
    "\n",
    "lists[0]=100"
   ]
  },
  {
   "cell_type": "code",
   "execution_count": 84,
   "id": "12a10d9d-7c89-45a1-9fb6-4832a5e81ce7",
   "metadata": {},
   "outputs": [
    {
     "data": {
      "text/plain": [
       "[100, 2, 3, 4, 5]"
      ]
     },
     "execution_count": 84,
     "metadata": {},
     "output_type": "execute_result"
    }
   ],
   "source": [
    "lists"
   ]
  },
  {
   "cell_type": "code",
   "execution_count": 85,
   "id": "5a8d03cd-8787-4ef2-972a-5b74f17fd181",
   "metadata": {},
   "outputs": [
    {
     "ename": "TypeError",
     "evalue": "'tuple' object does not support item assignment",
     "output_type": "error",
     "traceback": [
      "\u001b[0;31m---------------------------------------------------------------------------\u001b[0m",
      "\u001b[0;31mTypeError\u001b[0m                                 Traceback (most recent call last)",
      "Cell \u001b[0;32mIn[85], line 1\u001b[0m\n\u001b[0;32m----> 1\u001b[0m \u001b[43mtuples\u001b[49m\u001b[43m[\u001b[49m\u001b[38;5;241;43m0\u001b[39;49m\u001b[43m]\u001b[49m\u001b[38;5;241m=\u001b[39m\u001b[38;5;241m100\u001b[39m\n",
      "\u001b[0;31mTypeError\u001b[0m: 'tuple' object does not support item assignment"
     ]
    }
   ],
   "source": [
    "tuples[0]=100"
   ]
  },
  {
   "cell_type": "code",
   "execution_count": 86,
   "id": "09798c14-983b-411c-9c9d-7d00f33628c6",
   "metadata": {},
   "outputs": [],
   "source": [
    "#we cannot updatae the element in tuple because they are immutabble data type"
   ]
  },
  {
   "cell_type": "code",
   "execution_count": null,
   "id": "61d6f189-2161-4221-92b6-2bf0d2e06b0e",
   "metadata": {},
   "outputs": [],
   "source": []
  },
  {
   "cell_type": "code",
   "execution_count": 87,
   "id": "62cbafc8-e831-4ab2-a644-1f88bed90c4f",
   "metadata": {},
   "outputs": [],
   "source": [
    "# Q.5Describe the key features of sets and provide examples of their use\n",
    "\n"
   ]
  },
  {
   "cell_type": "code",
   "execution_count": 88,
   "id": "fcb8a9ce-d89e-4e03-ae64-ea6c82cbc98f",
   "metadata": {},
   "outputs": [
    {
     "data": {
      "text/plain": [
       "set"
      ]
     },
     "execution_count": 88,
     "metadata": {},
     "output_type": "execute_result"
    }
   ],
   "source": [
    "sets={1,2,3,4,1}\n",
    "\n",
    "type(sets)"
   ]
  },
  {
   "cell_type": "code",
   "execution_count": 89,
   "id": "1b063271-f291-464b-8eda-45f7f43a27e8",
   "metadata": {},
   "outputs": [
    {
     "data": {
      "text/plain": [
       "{1, 2, 3, 4}"
      ]
     },
     "execution_count": 89,
     "metadata": {},
     "output_type": "execute_result"
    }
   ],
   "source": [
    "#now if we print set we will see 1 gone from last jusst because set only store unique element \n",
    "\n",
    "sets"
   ]
  },
  {
   "cell_type": "code",
   "execution_count": 90,
   "id": "1fe7b755-31b8-44d4-8023-2e72325ac77c",
   "metadata": {},
   "outputs": [],
   "source": [
    "# Set are unordered data structure so that we cannot access the elemnt of the set"
   ]
  },
  {
   "cell_type": "code",
   "execution_count": 91,
   "id": "be630126-3d8e-44f2-9577-a56358726c75",
   "metadata": {},
   "outputs": [
    {
     "ename": "TypeError",
     "evalue": "'set' object is not subscriptable",
     "output_type": "error",
     "traceback": [
      "\u001b[0;31m---------------------------------------------------------------------------\u001b[0m",
      "\u001b[0;31mTypeError\u001b[0m                                 Traceback (most recent call last)",
      "Cell \u001b[0;32mIn[91], line 1\u001b[0m\n\u001b[0;32m----> 1\u001b[0m \u001b[43msets\u001b[49m\u001b[43m[\u001b[49m\u001b[38;5;241;43m0\u001b[39;49m\u001b[43m]\u001b[49m\n",
      "\u001b[0;31mTypeError\u001b[0m: 'set' object is not subscriptable"
     ]
    }
   ],
   "source": [
    "sets[0]"
   ]
  },
  {
   "cell_type": "code",
   "execution_count": 92,
   "id": "c3b04d9d-b15e-4b66-925e-4ec18e766827",
   "metadata": {},
   "outputs": [],
   "source": [
    "#but we can add and remove element from the set\n",
    "\n",
    "sets.add(9)"
   ]
  },
  {
   "cell_type": "code",
   "execution_count": 93,
   "id": "a5d06ce9-806b-45df-a730-0bbb0787e723",
   "metadata": {},
   "outputs": [
    {
     "data": {
      "text/plain": [
       "{1, 2, 3, 4, 9}"
      ]
     },
     "execution_count": 93,
     "metadata": {},
     "output_type": "execute_result"
    }
   ],
   "source": [
    "sets"
   ]
  },
  {
   "cell_type": "code",
   "execution_count": 94,
   "id": "9f5c6052-dfa7-4994-b582-c7d96ec62631",
   "metadata": {},
   "outputs": [],
   "source": [
    "sets.remove(2)"
   ]
  },
  {
   "cell_type": "code",
   "execution_count": 95,
   "id": "a0028e49-572e-4159-8447-4ecc6a312ed9",
   "metadata": {},
   "outputs": [
    {
     "data": {
      "text/plain": [
       "{1, 3, 4, 9}"
      ]
     },
     "execution_count": 95,
     "metadata": {},
     "output_type": "execute_result"
    }
   ],
   "source": [
    "sets"
   ]
  },
  {
   "cell_type": "code",
   "execution_count": 96,
   "id": "60e8f465-051e-4cc1-9974-b748bf8097f8",
   "metadata": {},
   "outputs": [],
   "source": [
    "# Sets can be used when we want to store a unique element and can add or remove element on the basis of the requirement .One more thing is that we cannot update element in the set "
   ]
  },
  {
   "cell_type": "code",
   "execution_count": null,
   "id": "f744686a-42b5-4991-819b-02c41a3f223e",
   "metadata": {},
   "outputs": [],
   "source": []
  },
  {
   "cell_type": "code",
   "execution_count": 97,
   "id": "bac19e31-d1ec-4e86-9079-cbe5040772bb",
   "metadata": {},
   "outputs": [],
   "source": [
    "# Q.6Discuss the use cases of tuples and sets in Python programming?\n",
    "\n",
    "# Set is already discuss above so we will move to0 the tuple"
   ]
  },
  {
   "cell_type": "code",
   "execution_count": 98,
   "id": "fd7254b6-83bd-42e0-89a8-6a3a55bcd3ca",
   "metadata": {},
   "outputs": [
    {
     "data": {
      "text/plain": [
       "tuple"
      ]
     },
     "execution_count": 98,
     "metadata": {},
     "output_type": "execute_result"
    }
   ],
   "source": [
    "tup=(1,2,3,4,5,6,7)\n",
    "type(tup)"
   ]
  },
  {
   "cell_type": "code",
   "execution_count": 99,
   "id": "99ebb228-7043-40d1-ae95-fa22d0c202fb",
   "metadata": {},
   "outputs": [
    {
     "data": {
      "text/plain": [
       "1"
      ]
     },
     "execution_count": 99,
     "metadata": {},
     "output_type": "execute_result"
    }
   ],
   "source": [
    "\"\"\"\n",
    "Tuple are immutable in nature means element in the tuple cannot be removed , canot be added after creating tuple,cannot be updated,but we can access the element of\n",
    "the tuple\n",
    "\"\"\"\n",
    "\n",
    "tup[0]"
   ]
  },
  {
   "cell_type": "code",
   "execution_count": 100,
   "id": "989a09dc-111c-43ae-bc09-f7dcde6d084f",
   "metadata": {},
   "outputs": [],
   "source": [
    "# So tuple can be used to store some sensitive data which we don't want to do the modification just only we want to access the value whenever is required"
   ]
  },
  {
   "cell_type": "code",
   "execution_count": null,
   "id": "fca9cbd2-735f-4762-9c48-4c6887a5626d",
   "metadata": {},
   "outputs": [],
   "source": []
  },
  {
   "cell_type": "code",
   "execution_count": 101,
   "id": "3c06d5ef-046e-4162-8a67-a5efe190039c",
   "metadata": {},
   "outputs": [],
   "source": [
    "# Q.7Describe how to add, modify, and delete items in a dictionary with examples?"
   ]
  },
  {
   "cell_type": "code",
   "execution_count": 102,
   "id": "57323f8f-c806-4cf2-8b2d-05f3fc95b7f9",
   "metadata": {},
   "outputs": [
    {
     "data": {
      "text/plain": [
       "dict"
      ]
     },
     "execution_count": 102,
     "metadata": {},
     "output_type": "execute_result"
    }
   ],
   "source": [
    "my_dict={\"a\":10,\"b\":20,\"c\":30,\"d\":40}\n",
    "type(my_dict)"
   ]
  },
  {
   "cell_type": "code",
   "execution_count": 103,
   "id": "d44af87b-4e6d-4103-908e-00f636c74f56",
   "metadata": {},
   "outputs": [
    {
     "data": {
      "text/plain": [
       "{'a': 10, 'b': 20, 'c': 30, 'd': 40, 'e': 50}"
      ]
     },
     "execution_count": 103,
     "metadata": {},
     "output_type": "execute_result"
    }
   ],
   "source": [
    "#adding element in dictionary\n",
    "my_dict[\"e\"]=50\n",
    "my_dict"
   ]
  },
  {
   "cell_type": "code",
   "execution_count": 104,
   "id": "730b70db-9e09-4376-a9b6-9093cabae7ec",
   "metadata": {},
   "outputs": [
    {
     "data": {
      "text/plain": [
       "{'a': 100, 'b': 20, 'c': 30, 'd': 40, 'e': 50}"
      ]
     },
     "execution_count": 104,
     "metadata": {},
     "output_type": "execute_result"
    }
   ],
   "source": [
    "#modifying element in dictionary\n",
    "\n",
    "my_dict[\"a\"]=100\n",
    "my_dict"
   ]
  },
  {
   "cell_type": "code",
   "execution_count": 105,
   "id": "c5ee97e7-58bd-4978-97ad-8045f0e0be1f",
   "metadata": {},
   "outputs": [],
   "source": [
    "#deleting element in the dictionary\n",
    "\n",
    "del my_dict[\"e\"]"
   ]
  },
  {
   "cell_type": "code",
   "execution_count": 106,
   "id": "b8b47690-83eb-4429-a9aa-75f3fe375caa",
   "metadata": {},
   "outputs": [
    {
     "data": {
      "text/plain": [
       "{'a': 100, 'b': 20, 'c': 30, 'd': 40}"
      ]
     },
     "execution_count": 106,
     "metadata": {},
     "output_type": "execute_result"
    }
   ],
   "source": [
    "my_dict"
   ]
  },
  {
   "cell_type": "code",
   "execution_count": null,
   "id": "166c1663-7b00-474f-8a5c-b50b8fe912ad",
   "metadata": {},
   "outputs": [],
   "source": []
  },
  {
   "cell_type": "code",
   "execution_count": 107,
   "id": "5948514a-915e-4faf-b9b1-992ba8a8d01e",
   "metadata": {},
   "outputs": [],
   "source": [
    "# Q.8Discuss the importance of dictionary keys being immutable and provide examples."
   ]
  },
  {
   "cell_type": "code",
   "execution_count": 108,
   "id": "7d8f419f-6b28-48be-9471-2baa98692dea",
   "metadata": {},
   "outputs": [
    {
     "data": {
      "text/plain": [
       "dict_keys(['one', 'two', 'three'])"
      ]
     },
     "execution_count": 108,
     "metadata": {},
     "output_type": "execute_result"
    }
   ],
   "source": [
    "dic={\"one\":1,\"two\":2,\"three\":3}\n",
    "\n",
    "#here one ,two ,three are the keys \n",
    "\n",
    "dic.keys()"
   ]
  },
  {
   "cell_type": "code",
   "execution_count": 109,
   "id": "b6a3f0c5-cb44-4a61-9e7b-b5b37de2f162",
   "metadata": {},
   "outputs": [],
   "source": [
    "# As we know in other data type like list ,tuple etc we are provided with index like 0,1... by the python which is in build and its point to the value of that eleemnt .In dictionary we provide keys which point to the value of that respective keys .but we cannot access the value because dictionary is unordered data type.every key should be unique so by this every value must have a unique and single pointer.Keys are immutable,  this help in removing the chances of error when we are updating the dictionary\n"
   ]
  },
  {
   "cell_type": "code",
   "execution_count": null,
   "id": "4cb90471-6003-45a3-b967-6b4fce80fdaf",
   "metadata": {},
   "outputs": [],
   "source": []
  },
  {
   "cell_type": "code",
   "execution_count": null,
   "id": "496a7a0e-0493-4faf-b023-4560e05200d6",
   "metadata": {},
   "outputs": [],
   "source": []
  },
  {
   "cell_type": "code",
   "execution_count": null,
   "id": "49be087a-aaf0-49c7-9041-420beeecc568",
   "metadata": {},
   "outputs": [],
   "source": []
  },
  {
   "cell_type": "code",
   "execution_count": null,
   "id": "0dcfbf52-a089-493e-b18a-d98dfa8e9f71",
   "metadata": {},
   "outputs": [],
   "source": []
  },
  {
   "cell_type": "code",
   "execution_count": null,
   "id": "da6e45c7-d78e-4224-be54-dcc81fda4d14",
   "metadata": {},
   "outputs": [],
   "source": []
  }
 ],
 "metadata": {
  "kernelspec": {
   "display_name": "Python 3 (ipykernel)",
   "language": "python",
   "name": "python3"
  },
  "language_info": {
   "codemirror_mode": {
    "name": "ipython",
    "version": 3
   },
   "file_extension": ".py",
   "mimetype": "text/x-python",
   "name": "python",
   "nbconvert_exporter": "python",
   "pygments_lexer": "ipython3",
   "version": "3.10.8"
  }
 },
 "nbformat": 4,
 "nbformat_minor": 5
}
